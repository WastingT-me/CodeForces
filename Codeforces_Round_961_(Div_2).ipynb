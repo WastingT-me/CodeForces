{
  "nbformat": 4,
  "nbformat_minor": 0,
  "metadata": {
    "colab": {
      "provenance": []
    },
    "kernelspec": {
      "name": "python3",
      "display_name": "Python 3"
    },
    "language_info": {
      "name": "python"
    }
  },
  "cells": [
    {
      "cell_type": "markdown",
      "source": [
        "#B1"
      ],
      "metadata": {
        "id": "3ijjOfyzAdAo"
      }
    },
    {
      "cell_type": "code",
      "execution_count": null,
      "metadata": {
        "id": "wGno27EkAb7V"
      },
      "outputs": [],
      "source": [
        "def max_petals(t, test_cases):\n",
        "    results = []\n",
        "\n",
        "    for case in test_cases:\n",
        "        n, m, petals = case\n",
        "        petals.sort()\n",
        "\n",
        "        max_petals_count = 0\n",
        "        current_cost = 0\n",
        "        current_petals = 0\n",
        "\n",
        "        left = 0\n",
        "\n",
        "        for right in range(n):\n",
        "            current_cost += petals[right]\n",
        "            current_petals += petals[right]\n",
        "\n",
        "            while current_cost > m or (right > left and petals[right] - petals[left] > 1):\n",
        "                current_cost -= petals[left]\n",
        "                current_petals -= petals[left]\n",
        "                left += 1\n",
        "\n",
        "            if current_cost <= m:\n",
        "                max_petals_count = max(max_petals_count, current_petals)\n",
        "\n",
        "        results.append(max_petals_count)\n",
        "\n",
        "    return results\n",
        "\n",
        "import sys\n",
        "input = sys.stdin.read\n",
        "\n",
        "data = input().split()\n",
        "index = 0\n",
        "\n",
        "t = int(data[index])\n",
        "index += 1\n",
        "\n",
        "test_cases = []\n",
        "\n",
        "for _ in range(t):\n",
        "    n = int(data[index])\n",
        "    m = int(data[index + 1])\n",
        "    index += 2\n",
        "    petals = list(map(int, data[index:index + n]))\n",
        "    index += n\n",
        "    test_cases.append((n, m, petals))\n",
        "\n",
        "results = max_petals(t, test_cases)\n",
        "\n",
        "for result in results:\n",
        "    print(result)"
      ]
    },
    {
      "cell_type": "markdown",
      "source": [
        "#A"
      ],
      "metadata": {
        "id": "YoMm6JYXAfr_"
      }
    },
    {
      "cell_type": "code",
      "source": [
        "def min_occupied_diagonals(t, test_cases):\n",
        "    results = []\n",
        "    for case in test_cases:\n",
        "        n, k = case\n",
        "        if k == 0:\n",
        "            results.append(0)\n",
        "            continue\n",
        "        occupied_diagonals = 0\n",
        "        i = 0\n",
        "\n",
        "        while k > 0:\n",
        "            if i == 0:\n",
        "                max_on_diagonal = n\n",
        "                occupied_diagonals += 1\n",
        "            else:\n",
        "                max_on_diagonal = 2 * (n - i)\n",
        "                if k <= max_on_diagonal // 2:\n",
        "                    occupied_diagonals += 1\n",
        "                else:\n",
        "                    occupied_diagonals += 2\n",
        "            k -= min(k, max_on_diagonal)\n",
        "            i += 1\n",
        "\n",
        "        results.append(occupied_diagonals)\n",
        "\n",
        "    return results\n",
        "\n",
        "t = int(input())\n",
        "test_cases = [tuple(map(int, input().split())) for _ in range(t)]\n",
        "results = min_occupied_diagonals(t, test_cases)\n",
        "for result in results:\n",
        "    print(result)\n"
      ],
      "metadata": {
        "id": "bFHJMTl9Agu2"
      },
      "execution_count": null,
      "outputs": []
    }
  ]
}