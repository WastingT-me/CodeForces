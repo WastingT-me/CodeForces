{
  "nbformat": 4,
  "nbformat_minor": 0,
  "metadata": {
    "colab": {
      "provenance": []
    },
    "kernelspec": {
      "name": "python3",
      "display_name": "Python 3"
    },
    "language_info": {
      "name": "python"
    }
  },
  "cells": [
    {
      "cell_type": "markdown",
      "source": [
        "#A"
      ],
      "metadata": {
        "id": "4tIBHKFXHNAG"
      }
    },
    {
      "cell_type": "code",
      "execution_count": null,
      "metadata": {
        "id": "FHliyLlGHLHt"
      },
      "outputs": [],
      "source": [
        "def sum_of_digits(n):\n",
        "    return (n // 10) + (n % 10)\n",
        "\n",
        "t = int(input())\n",
        "\n",
        "results = []\n",
        "for _ in range(t):\n",
        "    n = int(input())\n",
        "    results.append(sum_of_digits(n))\n",
        "\n",
        "for result in results:\n",
        "    print(result)"
      ]
    },
    {
      "cell_type": "markdown",
      "source": [
        "#B"
      ],
      "metadata": {
        "id": "yW1Pa78PHO5B"
      }
    },
    {
      "cell_type": "code",
      "source": [
        "def count_sunit_wins(a1, a2, b1, b2):\n",
        "    # Все возможные исходы раундов\n",
        "    outcomes = [\n",
        "        ((a1, b1), (a2, b2)),\n",
        "        ((a1, b2), (a2, b1)),\n",
        "        ((a2, b1), (a1, b2)),\n",
        "        ((a2, b2), (a1, b1)),\n",
        "    ]\n",
        "\n",
        "    sunit_wins = 0\n",
        "\n",
        "    for outcome in outcomes:\n",
        "        sunit_score = 0\n",
        "        slavik_score = 0\n",
        "\n",
        "        for sunit_card, slavik_card in outcome:\n",
        "            if sunit_card > slavik_card:\n",
        "                sunit_score += 1\n",
        "            elif sunit_card < slavik_card:\n",
        "                slavik_score += 1\n",
        "\n",
        "        if sunit_score > slavik_score:\n",
        "            sunit_wins += 1\n",
        "\n",
        "    return sunit_wins\n",
        "\n",
        "def main():\n",
        "    import sys\n",
        "    input = sys.stdin.read\n",
        "    data = input().split()\n",
        "\n",
        "    t = int(data[0])\n",
        "    results = []\n",
        "\n",
        "    index = 1\n",
        "    for _ in range(t):\n",
        "        a1 = int(data[index])\n",
        "        a2 = int(data[index + 1])\n",
        "        b1 = int(data[index + 2])\n",
        "        b2 = int(data[index + 3])\n",
        "        index += 4\n",
        "\n",
        "        result = count_sunit_wins(a1, a2, b1, b2)\n",
        "        results.append(result)\n",
        "\n",
        "    for result in results:\n",
        "        print(result)\n",
        "\n",
        "if __name__ == \"__main__\":\n",
        "    main()"
      ],
      "metadata": {
        "id": "d9C2o9sdHPeW"
      },
      "execution_count": null,
      "outputs": []
    },
    {
      "cell_type": "markdown",
      "source": [
        "#C"
      ],
      "metadata": {
        "id": "c5i3wTDCHP38"
      }
    },
    {
      "cell_type": "code",
      "source": [
        "def can_take_shower(t, test_cases):\n",
        "    results = []\n",
        "    for case in test_cases:\n",
        "        n, s, m, intervals = case\n",
        "        intervals.sort()\n",
        "\n",
        "        if intervals[0][0] >= s:\n",
        "            results.append(\"YES\")\n",
        "            continue\n",
        "\n",
        "        can_shower = False\n",
        "        for i in range(1, n):\n",
        "            if intervals[i][0] - intervals[i-1][1] >= s:\n",
        "                results.append(\"YES\")\n",
        "                can_shower = True\n",
        "                break\n",
        "\n",
        "        if can_shower:\n",
        "            continue\n",
        "\n",
        "        if m - intervals[-1][1] >= s:\n",
        "            results.append(\"YES\")\n",
        "        else:\n",
        "            results.append(\"NO\")\n",
        "\n",
        "    return results\n",
        "\n",
        "import sys\n",
        "input = sys.stdin.read\n",
        "data = input().split()\n",
        "\n",
        "index = 0\n",
        "t = int(data[index])\n",
        "index += 1\n",
        "\n",
        "test_cases = []\n",
        "for _ in range(t):\n",
        "    n = int(data[index])\n",
        "    s = int(data[index + 1])\n",
        "    m = int(data[index + 2])\n",
        "    index += 3\n",
        "    intervals = []\n",
        "    for _ in range(n):\n",
        "        l = int(data[index])\n",
        "        r = int(data[index + 1])\n",
        "        intervals.append((l, r))\n",
        "        index += 2\n",
        "    test_cases.append((n, s, m, intervals))\n",
        "\n",
        "results = can_take_shower(t, test_cases)\n",
        "for result in results:\n",
        "    print(result)"
      ],
      "metadata": {
        "id": "claDntVqHQZN"
      },
      "execution_count": null,
      "outputs": []
    },
    {
      "cell_type": "markdown",
      "source": [
        "#D"
      ],
      "metadata": {
        "id": "rPpbblEeHQtB"
      }
    },
    {
      "cell_type": "code",
      "source": [
        "def solve():\n",
        "    import sys\n",
        "    input = sys.stdin.read\n",
        "    data = input().split()\n",
        "\n",
        "    T = int(data[0])\n",
        "    index = 1\n",
        "\n",
        "    results = []\n",
        "\n",
        "    for _ in range(T):\n",
        "        s = data[index]\n",
        "        t = data[index + 1]\n",
        "        index += 2\n",
        "\n",
        "        s_list = list(s)\n",
        "        s_len = len(s)\n",
        "        t_len = len(t)\n",
        "        t_index = 0\n",
        "\n",
        "        for i in range(s_len):\n",
        "            if t_index < t_len and (s_list[i] == t[t_index] or s_list[i] == '?'):\n",
        "                if s_list[i] == '?':\n",
        "                    s_list[i] = t[t_index]\n",
        "                t_index += 1\n",
        "\n",
        "        if t_index != t_len:\n",
        "            results.append(\"NO\")\n",
        "        else:\n",
        "            s_final = ''.join(c if c != '?' else 'a' for c in s_list)\n",
        "            results.append(\"YES\")\n",
        "            results.append(s_final)\n",
        "\n",
        "    sys.stdout.write(\"\\n\".join(results) + \"\\n\")\n",
        "\n",
        "if __name__ == \"__main__\":\n",
        "    solve()"
      ],
      "metadata": {
        "id": "pmuhayCsHRK-"
      },
      "execution_count": null,
      "outputs": []
    }
  ]
}