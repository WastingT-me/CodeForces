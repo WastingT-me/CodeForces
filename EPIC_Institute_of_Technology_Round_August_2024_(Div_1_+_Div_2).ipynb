{
  "nbformat": 4,
  "nbformat_minor": 0,
  "metadata": {
    "colab": {
      "provenance": []
    },
    "kernelspec": {
      "name": "python3",
      "display_name": "Python 3"
    },
    "language_info": {
      "name": "python"
    }
  },
  "cells": [
    {
      "cell_type": "markdown",
      "source": [
        "#A"
      ],
      "metadata": {
        "id": "JS-uxvmqGabT"
      }
    },
    {
      "cell_type": "code",
      "execution_count": null,
      "metadata": {
        "id": "p4CmoMrgGWm6"
      },
      "outputs": [],
      "source": [
        "import math\n",
        "\n",
        "def min_colors(n, m, k):\n",
        "    if k > n and k > m:\n",
        "        # Каждая клетка будет уникального цвета\n",
        "        return n * m\n",
        "    else:\n",
        "        # Количество цветов определяется минимальным значением блоков\n",
        "        return min(n, k) * min(m, k)\n",
        "\n",
        "def main():\n",
        "    import sys\n",
        "    input = sys.stdin.read\n",
        "    data = input().strip().split()\n",
        "\n",
        "    t = int(data[0])\n",
        "    index = 1\n",
        "\n",
        "    results = []\n",
        "    for _ in range(t):\n",
        "        n = int(data[index])\n",
        "        m = int(data[index + 1])\n",
        "        k = int(data[index + 2])\n",
        "        index += 3\n",
        "\n",
        "        result = min_colors(n, m, k)\n",
        "        results.append(result)\n",
        "\n",
        "    for res in results:\n",
        "        print(res)\n",
        "\n",
        "if __name__ == \"__main__\":\n",
        "    main()"
      ]
    },
    {
      "cell_type": "markdown",
      "source": [
        "#B"
      ],
      "metadata": {
        "id": "7m6BQ1cCGcBo"
      }
    },
    {
      "cell_type": "code",
      "source": [
        "def solve_game(t, test_cases):\n",
        "    results = []\n",
        "\n",
        "    for case in test_cases:\n",
        "        n, a, b = case\n",
        "\n",
        "        left_a, right_a = 0, n - 1\n",
        "        left_b, right_b = 0, n - 1\n",
        "        alice_wins = False\n",
        "\n",
        "        while left_a <= right_a and left_b <= right_b:\n",
        "            # Удаление элемента Алисы\n",
        "            if a[left_a] != b[left_b] and a[left_a] != b[right_b]:\n",
        "                alice_wins = True\n",
        "                break\n",
        "            if a[right_a] != b[left_b] and a[right_a] != b[right_b]:\n",
        "                alice_wins = True\n",
        "                break\n",
        "\n",
        "            # Удаление элемента Боба\n",
        "            if a[left_a] == b[left_b]:\n",
        "                left_a += 1\n",
        "                left_b += 1\n",
        "            elif a[left_a] == b[right_b]:\n",
        "                left_a += 1\n",
        "                right_b -= 1\n",
        "            elif a[right_a] == b[left_b]:\n",
        "                right_a -= 1\n",
        "                left_b += 1\n",
        "            elif a[right_a] == b[right_b]:\n",
        "                right_a -= 1\n",
        "                right_b -= 1\n",
        "            else:\n",
        "                alice_wins = True\n",
        "                break\n",
        "\n",
        "        if alice_wins:\n",
        "            results.append(\"Alice\")\n",
        "        else:\n",
        "            results.append(\"Bob\")\n",
        "\n",
        "    return results\n",
        "\n",
        "t = int(input())\n",
        "test_cases = []\n",
        "\n",
        "for _ in range(t):\n",
        "    n = int(input())\n",
        "    a = list(map(int, input().split()))\n",
        "    b = list(map(int, input().split()))\n",
        "    test_cases.append((n, a, b))\n",
        "\n",
        "results = solve_game(t, test_cases)\n",
        "print(\"\\n\".join(results))"
      ],
      "metadata": {
        "id": "AOTHhimEGcrP"
      },
      "execution_count": null,
      "outputs": []
    },
    {
      "cell_type": "markdown",
      "source": [
        "#C"
      ],
      "metadata": {
        "id": "giXIJQTBGdCu"
      }
    },
    {
      "cell_type": "code",
      "source": [
        "import math\n",
        "import sys\n",
        "\n",
        "def dist2(x1, y1, x2, y2):\n",
        "    return (x2 - x1) ** 2 + (y2 - y1) ** 2\n",
        "\n",
        "def is_on_segment(xa, ya, xb, yb, xp, yp):\n",
        "    # Проверяем, лежит ли точка (xp, yp) на отрезке AB\n",
        "    return min(xa, xb) <= xp <= max(xa, xb) and min(ya, yb) <= yp <= max(ya, yb)\n",
        "\n",
        "def projection(xa, ya, xb, yb, xc, yc):\n",
        "    ab2 = (xb - xa) ** 2 + (yb - ya) ** 2\n",
        "    if ab2 == 0:\n",
        "        return xa, ya\n",
        "    t = max(0, min(1, ((xc - xa) * (xb - xa) + (yc - ya) * (yb - ya)) / ab2))\n",
        "    xp = xa + t * (xb - xa)\n",
        "    yp = ya + t * (yb - ya)\n",
        "    return xp, yp\n",
        "\n",
        "def is_reachable(n, circles, start, target):\n",
        "    xs, ys = start\n",
        "    xt, yt = target\n",
        "\n",
        "    for xc, yc in circles:\n",
        "        d_to_target2 = dist2(xc, yc, xt, yt)\n",
        "        d_start_to_target2 = dist2(xs, ys, xt, yt)\n",
        "\n",
        "        # Если круг достигает конечной точки быстрее, то сразу \"NO\"\n",
        "        if d_to_target2 <= d_start_to_target2:\n",
        "            return \"NO\"\n",
        "\n",
        "        # Проекция центра круга на отрезок AB\n",
        "        xp, yp = projection(xs, ys, xt, yt, xc, yc)\n",
        "\n",
        "        # Если проекция не лежит на отрезке, пропускаем этот круг\n",
        "        if not is_on_segment(xs, ys, xt, yt, xp, yp):\n",
        "            continue\n",
        "\n",
        "        # Квадрат расстояния от центра круга до проекции\n",
        "        d_proj2 = dist2(xc, yc, xp, yp)\n",
        "        # Время, через которое круг достигнет проекции\n",
        "        t_circle2 = d_proj2\n",
        "\n",
        "        # Квадрат расстояния от начальной точки до проекции\n",
        "        d_start_proj2 = dist2(xs, ys, xp, yp)\n",
        "        # Время, через которое достигнется проекция\n",
        "        t_person2 = d_start_proj2\n",
        "\n",
        "        # Время, через которое круг достигнет конечной точки от проекции\n",
        "        t_circle_to_target2 = t_circle2 + dist2(xp, yp, xt, yt)\n",
        "\n",
        "        # Проверка пересечения\n",
        "        if t_circle_to_target2 <= t_person2 + dist2(xp, yp, xt, yt):\n",
        "            return \"NO\"\n",
        "\n",
        "    return \"YES\"\n",
        "\n",
        "def main():\n",
        "    input = sys.stdin.read\n",
        "    data = input().strip().split('\\n')\n",
        "\n",
        "    t = int(data[0])\n",
        "    result = []\n",
        "\n",
        "    idx = 1\n",
        "    for _ in range(t):\n",
        "        n = int(data[idx])\n",
        "        circles = []\n",
        "        for i in range(n):\n",
        "            xi, yi = map(int, data[idx + 1 + i].split())\n",
        "            circles.append((xi, yi))\n",
        "\n",
        "        xs, ys, xt, yt = map(int, data[idx + n + 1].split())\n",
        "        start = (xs, ys)\n",
        "        target = (xt, yt)\n",
        "\n",
        "        result.append(is_reachable(n, circles, start, target))\n",
        "        idx += n + 2\n",
        "\n",
        "    sys.stdout.write(\"\\n\".join(result) + \"\\n\")\n",
        "\n",
        "if __name__ == \"__main__\":\n",
        "    main()"
      ],
      "metadata": {
        "id": "iz-RBTTOGdcd"
      },
      "execution_count": null,
      "outputs": []
    }
  ]
}