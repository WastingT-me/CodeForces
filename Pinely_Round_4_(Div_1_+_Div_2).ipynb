{
  "nbformat": 4,
  "nbformat_minor": 0,
  "metadata": {
    "colab": {
      "provenance": []
    },
    "kernelspec": {
      "name": "python3",
      "display_name": "Python 3"
    },
    "language_info": {
      "name": "python"
    }
  },
  "cells": [
    {
      "cell_type": "markdown",
      "source": [
        "#A"
      ],
      "metadata": {
        "id": "8n5uzMgpAl2-"
      }
    },
    {
      "cell_type": "code",
      "execution_count": null,
      "metadata": {
        "id": "Brj7L3imAh9j"
      },
      "outputs": [],
      "source": [
        "#include <iostream>\n",
        "#include <vector>\n",
        "#include <algorithm>\n",
        "#include <climits>\n",
        "#include <sstream>\n",
        "\n",
        "using namespace std;\n",
        "\n",
        "int find_max_remaining_element(const vector<int>& a) {\n",
        "    int n = a.size();\n",
        "    vector<vector<int>> dp(n, vector<int>(n, INT_MIN));\n",
        "\n",
        "    // Инициализация: если остался один элемент\n",
        "    for (int i = 0; i < n; ++i) {\n",
        "        dp[i][i] = a[i];\n",
        "    }\n",
        "\n",
        "    // Заполнение таблицы dp\n",
        "    for (int len = 2; len <= n; len += 2) {\n",
        "        for (int i = 0; i + len - 1 < n; ++i) {\n",
        "            int j = i + len - 1;\n",
        "            for (int k = i; k < j; k += 2) {\n",
        "                dp[i][j] = max(dp[i][j], dp[i][k] + dp[k + 1][j]);\n",
        "            }\n",
        "        }\n",
        "    }\n",
        "\n",
        "    int max_val = INT_MIN;\n",
        "    for (int i = 0; i < n; i += 2) {\n",
        "        for (int j = i; j < n; j += 2) {\n",
        "            max_val = max(max_val, dp[i][j]);\n",
        "        }\n",
        "    }\n",
        "\n",
        "    return max_val;\n",
        "}\n",
        "\n",
        "int main() {\n",
        "    int t;\n",
        "    cin >> t;\n",
        "\n",
        "    while (t--) {\n",
        "        int n;\n",
        "        cin >> n;\n",
        "        vector<int> a(n);\n",
        "        for (int i = 0; i < n; ++i) {\n",
        "            cin >> a[i];\n",
        "        }\n",
        "\n",
        "        int result = find_max_remaining_element(a);\n",
        "        cout << result << endl;\n",
        "    }\n",
        "\n",
        "    return 0;\n",
        "}"
      ]
    },
    {
      "cell_type": "markdown",
      "source": [
        "#B"
      ],
      "metadata": {
        "id": "Zjpa5EwBAnNb"
      }
    },
    {
      "cell_type": "code",
      "source": [
        "def solve(t, test_cases):\n",
        "    results = []\n",
        "\n",
        "    for test in test_cases:\n",
        "        n, b = test\n",
        "        a = [0] * n\n",
        "\n",
        "        # Start with the first element\n",
        "        a[0] = b[0]\n",
        "\n",
        "        # Try to construct the array `a`\n",
        "        for i in range(1, n):\n",
        "            # Choose a[i] such that a[i-1] & a[i] = b[i-1]\n",
        "            a[i] = b[i-1]\n",
        "            if i < n - 1:\n",
        "                # To ensure the next & condition, set a[i] as the OR of b[i-1] and b[i]\n",
        "                a[i] |= b[i]\n",
        "\n",
        "        # Validate the constructed array `a`\n",
        "        valid = True\n",
        "        for i in range(n - 1):\n",
        "            if (a[i] & a[i + 1]) != b[i]:\n",
        "                valid = False\n",
        "                break\n",
        "\n",
        "        if valid:\n",
        "            results.append(\" \".join(map(str, a)))\n",
        "        else:\n",
        "            results.append(\"-1\")\n",
        "\n",
        "    return results\n",
        "\n",
        "t = int(input())\n",
        "test_cases = []\n",
        "for _ in range(t):\n",
        "    n = int(input())\n",
        "    b = list(map(int, input().split()))\n",
        "    test_cases.append((n, b))\n",
        "results = solve(t, test_cases)\n",
        "for result in results:\n",
        "    print(result)"
      ],
      "metadata": {
        "id": "GvvVTYc0AnuJ"
      },
      "execution_count": null,
      "outputs": []
    }
  ]
}