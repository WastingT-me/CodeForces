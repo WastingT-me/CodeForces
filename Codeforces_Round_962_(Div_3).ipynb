{
  "nbformat": 4,
  "nbformat_minor": 0,
  "metadata": {
    "colab": {
      "provenance": []
    },
    "kernelspec": {
      "name": "python3",
      "display_name": "Python 3"
    },
    "language_info": {
      "name": "python"
    }
  },
  "cells": [
    {
      "cell_type": "markdown",
      "source": [
        "#A"
      ],
      "metadata": {
        "id": "KsOWQzU_A6DR"
      }
    },
    {
      "cell_type": "code",
      "execution_count": null,
      "metadata": {
        "id": "RXUXmqkOAz1F"
      },
      "outputs": [],
      "source": [
        "def min_animals(t, legs_list):\n",
        "    results = []\n",
        "    for n in legs_list:\n",
        "        if n % 4 == 0:\n",
        "            results.append(n // 4)\n",
        "        else:\n",
        "            results.append(n // 4 + 1)\n",
        "    return results\n",
        "\n",
        "t = int(input())\n",
        "legs_list = [int(input()) for _ in range(t)]\n",
        "results = min_animals(t, legs_list)\n",
        "for result in results:\n",
        "    print(result)"
      ]
    },
    {
      "cell_type": "markdown",
      "source": [
        "#B"
      ],
      "metadata": {
        "id": "jRJjFFRVA_zW"
      }
    },
    {
      "cell_type": "code",
      "source": [
        "def reduce_matrix(n, k, matrix):\n",
        "    reduced_size = n // k\n",
        "    reduced_matrix = []\n",
        "\n",
        "    for i in range(reduced_size):\n",
        "        row = []\n",
        "        for j in range(reduced_size):\n",
        "            value = matrix[i*k][j*k]\n",
        "            row.append(value)\n",
        "        reduced_matrix.append(\"\".join(row))\n",
        "\n",
        "    return reduced_matrix\n",
        "\n",
        "def process_input(input_str):\n",
        "    lines = input_str.strip().split('\\n')\n",
        "    t = int(lines[0])\n",
        "    index = 1\n",
        "    results = []\n",
        "\n",
        "    for _ in range(t):\n",
        "        n, k = map(int, lines[index].split())\n",
        "        index += 1\n",
        "        matrix = [lines[index + i] for i in range(n)]\n",
        "        index += n\n",
        "\n",
        "        reduced_matrix = reduce_matrix(n, k, matrix)\n",
        "        results.append(\"\\n\".join(reduced_matrix))\n",
        "\n",
        "    return \"\\n\".join(results)\n",
        "\n",
        "if __name__ == \"__main__\":\n",
        "    import sys\n",
        "    input_str = sys.stdin.read()\n",
        "    output_str = process_input(input_str)\n",
        "    print(output_str)"
      ],
      "metadata": {
        "id": "w21jPqSCBAir"
      },
      "execution_count": null,
      "outputs": []
    }
  ]
}