{
  "nbformat": 4,
  "nbformat_minor": 0,
  "metadata": {
    "colab": {
      "provenance": []
    },
    "kernelspec": {
      "name": "python3",
      "display_name": "Python 3"
    },
    "language_info": {
      "name": "python"
    }
  },
  "cells": [
    {
      "cell_type": "markdown",
      "source": [
        "#A"
      ],
      "metadata": {
        "id": "wLdcc-aGHooO"
      }
    },
    {
      "cell_type": "code",
      "execution_count": null,
      "metadata": {
        "id": "sjxF6QjcHmx_"
      },
      "outputs": [],
      "source": [
        "def max_correct_answers(t, test_cases):\n",
        "    results = []\n",
        "    for i in range(t):\n",
        "        n = test_cases[i][0]\n",
        "        s = test_cases[i][1]\n",
        "        count_A = s.count('A')\n",
        "        count_B = s.count('B')\n",
        "        count_C = s.count('C')\n",
        "        count_D = s.count('D')\n",
        "\n",
        "        correct_A = min(n, count_A)\n",
        "        correct_B = min(n, count_B)\n",
        "        correct_C = min(n, count_C)\n",
        "        correct_D = min(n, count_D)\n",
        "\n",
        "        remaining_A = max(0, n - correct_A)\n",
        "        remaining_B = max(0, n - correct_B)\n",
        "        remaining_C = max(0, n - correct_C)\n",
        "        remaining_D = max(0, n - correct_D)\n",
        "\n",
        "        total_correct = correct_A + correct_B + correct_C + correct_D\n",
        "        results.append(total_correct)\n",
        "    return results\n",
        "\n",
        "import sys\n",
        "input = sys.stdin.read\n",
        "\n",
        "data = input().split()\n",
        "t = int(data[0])\n",
        "index = 1\n",
        "test_cases = []\n",
        "\n",
        "for _ in range(t):\n",
        "    n = int(data[index])\n",
        "    s = data[index + 1]\n",
        "    test_cases.append((n, s))\n",
        "    index += 2\n",
        "\n",
        "results = max_correct_answers(t, test_cases)\n",
        "for result in results:\n",
        "    print(result)"
      ]
    },
    {
      "cell_type": "markdown",
      "source": [
        "#B"
      ],
      "metadata": {
        "id": "Qz88MyLnHpsu"
      }
    },
    {
      "cell_type": "code",
      "source": [
        "def min_operations_to_same_parity(t, test_cases):\n",
        "    results = []\n",
        "\n",
        "    for i in range(t):\n",
        "        n, a = test_cases[i]\n",
        "\n",
        "        odd_count = 0\n",
        "        even_count = 0\n",
        "        max_odd = -1\n",
        "        evens = []\n",
        "\n",
        "        for number in a:\n",
        "            if number % 2 == 0:\n",
        "                even_count += 1\n",
        "                evens.append(number)\n",
        "            else:\n",
        "                odd_count += 1\n",
        "                if number > max_odd:\n",
        "                    max_odd = number\n",
        "\n",
        "        if odd_count == 0 or even_count == 0:\n",
        "            results.append(0)\n",
        "            continue\n",
        "\n",
        "        evens.sort()\n",
        "\n",
        "        if evens[0] > max_odd:\n",
        "            results.append(even_count + 1)\n",
        "        else:\n",
        "            i = 0\n",
        "            while i < len(evens) - 1:\n",
        "                if evens[i] + max_odd > evens[i + 1]:\n",
        "                    evens[i + 1] = evens[i + 1] + evens[i]\n",
        "                else:\n",
        "                    break\n",
        "                i += 1\n",
        "\n",
        "            if i == len(evens) - 1:\n",
        "                results.append(even_count)\n",
        "            else:\n",
        "                results.append(even_count + 1)\n",
        "\n",
        "    return results\n",
        "\n",
        "import sys\n",
        "input = sys.stdin.read\n",
        "\n",
        "data = input().split()\n",
        "index = 0\n",
        "\n",
        "t = int(data[index])\n",
        "index += 1\n",
        "\n",
        "test_cases = []\n",
        "\n",
        "for _ in range(t):\n",
        "    n = int(data[index])\n",
        "    index += 1\n",
        "    a = list(map(int, data[index:index + n]))\n",
        "    index += n\n",
        "    test_cases.append((n, a))\n",
        "\n",
        "results = min_operations_to_same_parity(t, test_cases)\n",
        "\n",
        "for result in results:\n",
        "    print(result)"
      ],
      "metadata": {
        "id": "Xx85T_jbHqVg"
      },
      "execution_count": null,
      "outputs": []
    }
  ]
}