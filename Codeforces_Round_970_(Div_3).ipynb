{
  "nbformat": 4,
  "nbformat_minor": 0,
  "metadata": {
    "colab": {
      "provenance": []
    },
    "kernelspec": {
      "name": "python3",
      "display_name": "Python 3"
    },
    "language_info": {
      "name": "python"
    }
  },
  "cells": [
    {
      "cell_type": "markdown",
      "source": [
        "#A"
      ],
      "metadata": {
        "id": "lwc72853E1IS"
      }
    },
    {
      "cell_type": "code",
      "execution_count": null,
      "metadata": {
        "id": "DntpYLI5EtaB"
      },
      "outputs": [],
      "source": [
        "t = int(input())\n",
        "for _ in range(t):\n",
        "    a, b = map(int, input().split())\n",
        "\n",
        "    if a % 2 == 1:\n",
        "        print(\"NO\")\n",
        "    elif a < 2 and b % 2 == 1:\n",
        "        print(\"NO\")\n",
        "    else:\n",
        "        print(\"YES\")"
      ]
    },
    {
      "cell_type": "markdown",
      "source": [
        "#B"
      ],
      "metadata": {
        "id": "o3hXEIihE3az"
      }
    },
    {
      "cell_type": "code",
      "source": [
        "import math\n",
        "\n",
        "def is_beautiful_square(n, s):\n",
        "    k = int(math.sqrt(n))\n",
        "\n",
        "    if k * k != n:\n",
        "        return \"No\"\n",
        "\n",
        "    if s[:k] != '1' * k or s[-k:] != '1' * k:\n",
        "        return \"No\"\n",
        "\n",
        "    for i in range(1, k-1):\n",
        "        if s[i*k] != '1' or s[(i+1)*k-1] != '1':\n",
        "            return \"No\"\n",
        "        if s[i*k+1:(i+1)*k-1] != '0' * (k-2):\n",
        "            return \"No\"\n",
        "\n",
        "    return \"Yes\"\n",
        "\n",
        "t = int(input())\n",
        "results = []\n",
        "for _ in range(t):\n",
        "    n = int(input())\n",
        "    s = input().strip()\n",
        "    results.append(is_beautiful_square(n, s))\n",
        "\n",
        "print(\"\\n\".join(results))"
      ],
      "metadata": {
        "id": "4aVrZUUvE4X8"
      },
      "execution_count": null,
      "outputs": []
    },
    {
      "cell_type": "markdown",
      "source": [
        "#C"
      ],
      "metadata": {
        "id": "Cx29LlRZE919"
      }
    },
    {
      "cell_type": "code",
      "source": [
        "import math\n",
        "\n",
        "def max_good_array_length(l, r):\n",
        "    delta = r - l\n",
        "    n = int((1 + math.sqrt(1 + 8 * delta)) // 2)\n",
        "    return n\n",
        "\n",
        "t = int(input())\n",
        "for _ in range(t):\n",
        "    l, r = map(int, input().split())\n",
        "    print(max_good_array_length(l, r))"
      ],
      "metadata": {
        "id": "hRY7OYkDE-Ss"
      },
      "execution_count": null,
      "outputs": []
    },
    {
      "cell_type": "markdown",
      "source": [
        "#D"
      ],
      "metadata": {
        "id": "0-JTa_WzFAny"
      }
    },
    {
      "cell_type": "code",
      "source": [
        "def solve(t, test_cases):\n",
        "    results = []\n",
        "\n",
        "    for case in test_cases:\n",
        "        n, p, s = case\n",
        "        p = [x - 1 for x in p]  # Перейдем к 0-индексации\n",
        "        visited = [False] * n\n",
        "        f = [0] * n\n",
        "\n",
        "        for i in range(n):\n",
        "            if not visited[i]:\n",
        "                # Найдем все элементы в текущем цикле\n",
        "                cycle = []\n",
        "                x = i\n",
        "                while not visited[x]:\n",
        "                    visited[x] = True\n",
        "                    cycle.append(x)\n",
        "                    x = p[x]\n",
        "\n",
        "                # Посчитаем количество черных элементов в цикле\n",
        "                black_count = sum(1 for x in cycle if s[x] == '0')\n",
        "\n",
        "                # Заполним f[i] для всех элементов цикла\n",
        "                for x in cycle:\n",
        "                    f[x] = black_count\n",
        "\n",
        "        results.append(\" \".join(map(str, f)))\n",
        "\n",
        "    return \"\\n\".join(results)\n",
        "\n",
        "t = int(input())\n",
        "test_cases = []\n",
        "\n",
        "for _ in range(t):\n",
        "    n = int(input())\n",
        "    p = list(map(int, input().split()))\n",
        "    s = input()\n",
        "    test_cases.append((n, p, s))\n",
        "\n",
        "output = solve(t, test_cases)\n",
        "print(output)"
      ],
      "metadata": {
        "id": "Qd-QQ8dDFBL6"
      },
      "execution_count": null,
      "outputs": []
    }
  ]
}