{
  "nbformat": 4,
  "nbformat_minor": 0,
  "metadata": {
    "colab": {
      "provenance": []
    },
    "kernelspec": {
      "name": "python3",
      "display_name": "Python 3"
    },
    "language_info": {
      "name": "python"
    }
  },
  "cells": [
    {
      "cell_type": "markdown",
      "source": [
        "#A"
      ],
      "metadata": {
        "id": "CtME5egQS66E"
      }
    },
    {
      "cell_type": "code",
      "source": [
        "def calculate_minimum_screens(x, y):\n",
        "    screens_for_2x2 = (y + 1) // 2\n",
        "    used_cells_by_2x2 = y * 4\n",
        "    total_cells_in_screens_for_2x2 = screens_for_2x2 * 15\n",
        "    remaining_cells = total_cells_in_screens_for_2x2 - used_cells_by_2x2\n",
        "    remaining_1x1 = max(0, x - remaining_cells)\n",
        "    screens_for_1x1 = (remaining_1x1 + 14) // 15\n",
        "    total_screens = screens_for_2x2 + screens_for_1x1\n",
        "    return total_screens\n",
        "\n",
        "t = int(input())\n",
        "results = []\n",
        "\n",
        "for _ in range(t):\n",
        "    x, y = map(int, input().split())\n",
        "    results.append(calculate_minimum_screens(x, y))\n",
        "\n",
        "for result in results:\n",
        "    print(result)"
      ],
      "metadata": {
        "colab": {
          "base_uri": "https://localhost:8080/"
        },
        "id": "gk1CQdxnR44L",
        "outputId": "d7c58929-488e-4ae8-c6ad-8dffe0aa307d"
      },
      "execution_count": null,
      "outputs": [
        {
          "output_type": "stream",
          "name": "stdout",
          "text": [
            "11\n",
            "1 1\n",
            "7 2\n",
            "12 4\n",
            "0 3\n",
            "1 0\n",
            "8 1\n",
            "0 0 \n",
            "2 0\n",
            "15 0\n",
            "8 2\n",
            "0 9\n",
            "1\n",
            "1\n",
            "2\n",
            "2\n",
            "1\n",
            "1\n",
            "0\n",
            "1\n",
            "1\n",
            "2\n",
            "5\n"
          ]
        }
      ]
    },
    {
      "cell_type": "markdown",
      "source": [
        "#B"
      ],
      "metadata": {
        "id": "CXKeYIw5S9ZW"
      }
    },
    {
      "cell_type": "code",
      "source": [
        "def decode_string(s):\n",
        "    r = ''.join(sorted(set(s)))\n",
        "\n",
        "    reverse_map = {}\n",
        "    length = len(r)\n",
        "    for i in range(length):\n",
        "        reverse_map[r[i]] = r[length - 1 - i]\n",
        "\n",
        "    decoded_string = ''.join(reverse_map[char] for char in s)\n",
        "    return decoded_string\n",
        "\n",
        "t = int(input())\n",
        "results = []\n",
        "\n",
        "for _ in range(t):\n",
        "    n = int(input())\n",
        "    s = input().strip()\n",
        "    results.append(decode_string(s))\n",
        "\n",
        "for result in results:\n",
        "    print(result)"
      ],
      "metadata": {
        "colab": {
          "base_uri": "https://localhost:8080/"
        },
        "id": "RIuOwrslS-GQ",
        "outputId": "b658fe09-1c60-4012-d0d6-13dde059982b"
      },
      "execution_count": null,
      "outputs": [
        {
          "output_type": "stream",
          "name": "stdout",
          "text": [
            "1\n",
            "10\n",
            "codeforces\n",
            "serofedsoc\n"
          ]
        }
      ]
    },
    {
      "cell_type": "markdown",
      "source": [
        "#C"
      ],
      "metadata": {
        "id": "K82YzPeYU3ql"
      }
    },
    {
      "cell_type": "code",
      "source": [
        "from collections import defaultdict\n",
        "\n",
        "def count_beautiful_pairs(triples):\n",
        "\n",
        "    triple_count = defaultdict(int)\n",
        "    first_n_diff = defaultdict(int)\n",
        "    second_n_diff = defaultdict(int)\n",
        "    third_n_diff = defaultdict(int)\n",
        "\n",
        "    for triple in triples:\n",
        "        a, b, c = triple\n",
        "        triple_count[(a, b, c)] += 1\n",
        "        first_n_diff[(b, c)] += 1\n",
        "        second_n_diff[(a, c)] += 1\n",
        "        third_n_diff[(a, b)] += 1\n",
        "\n",
        "    beautiful_pairs = 0\n",
        "\n",
        "    for triple in triples:\n",
        "        a, b, c = triple\n",
        "        beautiful_pairs += first_n_diff[(b, c)] + second_n_diff[(a, c)] + third_n_diff[(a, b)] - 3 * triple_count[(a, b, c)]\n",
        "    return beautiful_pairs // 2\n",
        "\n",
        "def process_input(t, arrs):\n",
        "    results = []\n",
        "    for i in range(t):\n",
        "        n = arrs[i][0]\n",
        "        a = arrs[i][1]\n",
        "        triples = [(a[j], a[j+1], a[j+2]) for j in range(n-2)]\n",
        "        results.append(count_beautiful_pairs(triples))\n",
        "    return results\n",
        "\n",
        "t = int(input())\n",
        "arrs = []\n",
        "\n",
        "for _ in range(t):\n",
        "    n = int(input())\n",
        "    a = list(map(int, input().split()))\n",
        "    arrs.append((n, a))\n",
        "\n",
        "results = process_input(t, arrs)\n",
        "\n",
        "for result in results:\n",
        "    print(result)"
      ],
      "metadata": {
        "colab": {
          "base_uri": "https://localhost:8080/"
        },
        "id": "UKkYG9G8Tw0q",
        "outputId": "ca546c83-bdf3-434d-eaca-bc4c2cc05737"
      },
      "execution_count": null,
      "outputs": [
        {
          "output_type": "stream",
          "name": "stdout",
          "text": [
            "1\n",
            "8\n",
            "1 2 3 2 2 3 4 2\n",
            "3\n"
          ]
        }
      ]
    },
    {
      "cell_type": "markdown",
      "source": [
        "#D"
      ],
      "metadata": {
        "id": "5ChdRnt_YT6D"
      }
    },
    {
      "cell_type": "code",
      "source": [
        "from collections import defaultdict\n",
        "\n",
        "def change_char_in_string(string, index, new_char):\n",
        "    return string[:index] + new_char + string[index + 1:]\n",
        "\n",
        "def right_way(string):\n",
        "    move_count = defaultdict(int)\n",
        "\n",
        "    for char in string:\n",
        "        move_count[char] += 1\n",
        "\n",
        "    ver = abs(move_count['N'] - move_count['S'])\n",
        "    gor = abs(move_count['E'] - move_count['W'])\n",
        "\n",
        "    if ver % 2 == 1 or gor % 2 == 1:\n",
        "        return 'NO'\n",
        "    else:\n",
        "        total_y = move_count['N'] - move_count['S']\n",
        "        total_x = move_count['E'] - move_count['W']\n",
        "\n",
        "        n = move_count['N'] // 2\n",
        "        s = move_count['S'] // 2\n",
        "        e = move_count['E'] // 2\n",
        "        w = move_count['W'] // 2\n",
        "\n",
        "        rover_moves = {'N': n, 'S': s, 'E': e, 'W': w}\n",
        "        helicopter_moves = {\n",
        "            'N': move_count['N'] - n,\n",
        "            'S': move_count['S'] - s,\n",
        "            'E': move_count['E'] - e,\n",
        "            'W': move_count['W'] - w\n",
        "        }\n",
        "\n",
        "        result = []\n",
        "        for char in string:\n",
        "            if rover_moves[char] > 0:\n",
        "                result.append('R')\n",
        "                rover_moves[char] -= 1\n",
        "            else:\n",
        "                result.append('H')\n",
        "                helicopter_moves[char] -= 1\n",
        "        final = ''.join(result)\n",
        "        if len(set(final))==1:\n",
        "            if 'N' and 'S' in string:\n",
        "                k = 0\n",
        "                while string[k]!='N': k+=1\n",
        "                if final[k]=='R': final=change_char_in_string(final, k, 'H')\n",
        "                else: final=change_char_in_string(final, k, 'R')\n",
        "                k = 0\n",
        "                while string[k]!='S': k+=1\n",
        "                if final[k]=='R': final=change_char_in_string(final, k, 'H')\n",
        "                else: final=change_char_in_string(final, k, 'R')\n",
        "            elif 'W' and 'E' in string:\n",
        "                k = 0\n",
        "                while string[k]!='W': k+=1\n",
        "                if final[k]=='R': final=change_char_in_string(final, k, 'H')\n",
        "                else: final=change_char_in_string(final, k, 'R')\n",
        "                k = 0\n",
        "                while string[k]!='E': k+=1\n",
        "                if final[k]=='R': final=change_char_in_string(final, k, 'H')\n",
        "                else: final=change_char_in_string(final, k, 'R')\n",
        "        if len(set(final))==1:\n",
        "            return 'NO'\n",
        "        return final\n",
        "\n",
        "t = int(input())\n",
        "results = []\n",
        "\n",
        "for _ in range(t):\n",
        "    n = int(input())\n",
        "    string = input().strip()\n",
        "    results.append(right_way(string))\n",
        "\n",
        "for result in results:\n",
        "    print(result)"
      ],
      "metadata": {
        "id": "X9QidDLbqHhd"
      },
      "execution_count": null,
      "outputs": []
    }
  ]
}